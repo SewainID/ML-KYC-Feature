{
 "cells": [
  {
   "cell_type": "code",
   "execution_count": 1,
   "metadata": {},
   "outputs": [
    {
     "name": "stdout",
     "output_type": "stream",
     "text": [
      "WARNING:tensorflow:From c:\\Users\\ACER\\AppData\\Local\\Programs\\Python\\Python311\\Lib\\site-packages\\keras\\src\\losses.py:2976: The name tf.losses.sparse_softmax_cross_entropy is deprecated. Please use tf.compat.v1.losses.sparse_softmax_cross_entropy instead.\n",
      "\n"
     ]
    }
   ],
   "source": [
    "import os\n",
    "from PIL import Image\n",
    "from keras.preprocessing.image import ImageDataGenerator\n",
    "from keras.models import Sequential\n",
    "from keras.layers import Conv2D, MaxPooling2D, Flatten, Dense, Dropout\n"
   ]
  },
  {
   "cell_type": "code",
   "execution_count": 2,
   "metadata": {},
   "outputs": [],
   "source": [
    "import tensorflow as tf\n",
    "class CustomCallback(tf.keras.callbacks.Callback):\n",
    "    def on_epoch_end(self, epoch, logs=None):\n",
    "        if logs['accuracy'] > 0.95 and logs['val_accuracy'] > 0.7:\n",
    "            print(\"\\nReached desired accuracy, stopping training.\")\n",
    "            self.model.stop_training = True"
   ]
  },
  {
   "cell_type": "code",
   "execution_count": 3,
   "metadata": {},
   "outputs": [],
   "source": [
    "# target_size = (128, 128)\n",
    "batch_size = 32\n",
    "num_classes = 46  # Adjust based on your number of classes"
   ]
  },
  {
   "cell_type": "code",
   "execution_count": 4,
   "metadata": {},
   "outputs": [],
   "source": [
    "data_directory = 'datasets_character_anime'\n",
    "image_filenames = [os.path.join(data_directory, folder, filename) for folder in os.listdir(data_directory) if os.path.isdir(os.path.join(data_directory, folder)) for filename in os.listdir(os.path.join(data_directory, folder)) if filename.endswith(('.jpg', '.png', '.jpeg'))]\n"
   ]
  },
  {
   "cell_type": "code",
   "execution_count": 5,
   "metadata": {},
   "outputs": [],
   "source": [
    "for filename in image_filenames:\n",
    "    img = Image.open(filename)\n",
    "    img = img.resize((128, 128))\n",
    "    img.save(filename)"
   ]
  },
  {
   "cell_type": "code",
   "execution_count": 6,
   "metadata": {},
   "outputs": [
    {
     "name": "stdout",
     "output_type": "stream",
     "text": [
      "Found 4102 images belonging to 46 classes.\n",
      "Found 434 images belonging to 46 classes.\n"
     ]
    }
   ],
   "source": [
    "datagen = ImageDataGenerator(\n",
    "        rescale=1./255,  # normalize pixel values to be between 0 and 1\n",
    "        rotation_range=40,\n",
    "        width_shift_range=0.2,\n",
    "        height_shift_range=0.2,\n",
    "        shear_range=0.2,\n",
    "        zoom_range=0.2,\n",
    "        horizontal_flip=True,\n",
    "        fill_mode='nearest',\n",
    "        validation_split=0.1\n",
    "    )\n",
    "\n",
    "# datagen = ImageDataGenerator(\n",
    "#     rescale=1./255,\n",
    "#     validation_split=0.2,\n",
    "# )\n",
    "\n",
    "\n",
    "train_generator = datagen.flow_from_directory(\n",
    "    data_directory,\n",
    "    target_size=(128, 128),\n",
    "    batch_size=batch_size,\n",
    "    class_mode='categorical',\n",
    "    subset='training',\n",
    "    shuffle=True  # Add shuffle parameter\n",
    ")\n",
    "\n",
    "validation_generator = datagen.flow_from_directory(\n",
    "    data_directory,\n",
    "    target_size=(128, 128),\n",
    "    batch_size=batch_size,\n",
    "    class_mode='categorical',\n",
    "    subset='validation',\n",
    "    shuffle=False  # No need to shuffle validation data\n",
    ")"
   ]
  },
  {
   "cell_type": "code",
   "execution_count": 7,
   "metadata": {},
   "outputs": [
    {
     "name": "stdout",
     "output_type": "stream",
     "text": [
      "(128, 128, 3)\n",
      "(128, 128, 3)\n"
     ]
    }
   ],
   "source": [
    "print(train_generator.image_shape)\n",
    "print(validation_generator.image_shape)\n"
   ]
  },
  {
   "cell_type": "code",
   "execution_count": 8,
   "metadata": {},
   "outputs": [
    {
     "name": "stdout",
     "output_type": "stream",
     "text": [
      "WARNING:tensorflow:From c:\\Users\\ACER\\AppData\\Local\\Programs\\Python\\Python311\\Lib\\site-packages\\keras\\src\\backend.py:873: The name tf.get_default_graph is deprecated. Please use tf.compat.v1.get_default_graph instead.\n",
      "\n",
      "WARNING:tensorflow:From c:\\Users\\ACER\\AppData\\Local\\Programs\\Python\\Python311\\Lib\\site-packages\\keras\\src\\layers\\pooling\\max_pooling2d.py:161: The name tf.nn.max_pool is deprecated. Please use tf.nn.max_pool2d instead.\n",
      "\n"
     ]
    }
   ],
   "source": [
    "model = Sequential()\n",
    "model.add(Conv2D(filters=16, kernel_size=(3, 3), activation='relu', input_shape=(128, 128, 3)))  # Input shape is (64, 64, 1) for grayscale images\n",
    "model.add(MaxPooling2D())\n",
    "model.add(Conv2D(filters=32, kernel_size=(3, 3), activation='relu'))\n",
    "model.add(MaxPooling2D())\n",
    "model.add(Conv2D(filters=64, kernel_size=(3, 3), activation='relu'))\n",
    "model.add(MaxPooling2D())\n",
    "model.add(Conv2D(filters=128, kernel_size=(3, 3), activation='relu'))\n",
    "model.add(Flatten())\n",
    "model.add(Dropout(0.5))  # Add dropout after the Flatten layer or between Dense layers\n",
    "model.add(Dense(units=128, activation='relu'))\n",
    "model.add(Dense(units=64, activation='relu'))\n",
    "model.add(Dense(units=num_classes, activation='softmax'))"
   ]
  },
  {
   "cell_type": "code",
   "execution_count": 69,
   "metadata": {},
   "outputs": [],
   "source": [
    "# model = Sequential()\n",
    "# model.add(Conv2D(32, (3, 3), activation='relu', input_shape=(128, 128, 3)))\n",
    "# model.add(MaxPooling2D())\n",
    "# model.add(Flatten())\n",
    "# model.add(Dense(128, activation='relu'))\n",
    "# model.add(Dense(num_classes, activation='softmax'))\n"
   ]
  },
  {
   "cell_type": "code",
   "execution_count": 9,
   "metadata": {},
   "outputs": [],
   "source": [
    "from keras.optimizers import Adam\n",
    "\n",
    "custom_optimizer = Adam(learning_rate=0.001)\n",
    "\n",
    "model.compile(optimizer=custom_optimizer, loss='categorical_crossentropy', metrics=['accuracy'])"
   ]
  },
  {
   "cell_type": "code",
   "execution_count": 12,
   "metadata": {},
   "outputs": [
    {
     "name": "stdout",
     "output_type": "stream",
     "text": [
      "Epoch 1/100\n",
      "128/128 [==============================] - 15s 118ms/step - loss: 0.6547 - accuracy: 0.7990 - val_loss: 1.7144 - val_accuracy: 0.6418\n",
      "Epoch 2/100\n",
      "128/128 [==============================] - 14s 112ms/step - loss: 0.6283 - accuracy: 0.8115 - val_loss: 1.7518 - val_accuracy: 0.6370\n",
      "Epoch 3/100\n",
      "128/128 [==============================] - 14s 111ms/step - loss: 0.6529 - accuracy: 0.7995 - val_loss: 1.8683 - val_accuracy: 0.6226\n",
      "Epoch 4/100\n",
      "128/128 [==============================] - 14s 111ms/step - loss: 0.5873 - accuracy: 0.8194 - val_loss: 1.7719 - val_accuracy: 0.6274\n",
      "Epoch 5/100\n",
      "128/128 [==============================] - 14s 112ms/step - loss: 0.6299 - accuracy: 0.8044 - val_loss: 1.7837 - val_accuracy: 0.6226\n",
      "Epoch 6/100\n",
      "128/128 [==============================] - 14s 111ms/step - loss: 0.5853 - accuracy: 0.8194 - val_loss: 1.6615 - val_accuracy: 0.6298\n",
      "Epoch 7/100\n",
      "128/128 [==============================] - 14s 111ms/step - loss: 0.6802 - accuracy: 0.7924 - val_loss: 1.9015 - val_accuracy: 0.5793\n",
      "Epoch 8/100\n",
      "128/128 [==============================] - 14s 110ms/step - loss: 0.5713 - accuracy: 0.8236 - val_loss: 1.7778 - val_accuracy: 0.6490\n",
      "Epoch 9/100\n",
      "128/128 [==============================] - 14s 112ms/step - loss: 0.6246 - accuracy: 0.8138 - val_loss: 1.7123 - val_accuracy: 0.6082\n",
      "Epoch 10/100\n",
      "128/128 [==============================] - 14s 112ms/step - loss: 0.5821 - accuracy: 0.8152 - val_loss: 1.8190 - val_accuracy: 0.6202\n",
      "Epoch 11/100\n",
      "128/128 [==============================] - 14s 111ms/step - loss: 0.5988 - accuracy: 0.8177 - val_loss: 1.8425 - val_accuracy: 0.6394\n",
      "Epoch 12/100\n",
      "128/128 [==============================] - 14s 112ms/step - loss: 0.6046 - accuracy: 0.8143 - val_loss: 1.6993 - val_accuracy: 0.6322\n",
      "Epoch 13/100\n",
      "128/128 [==============================] - 14s 111ms/step - loss: 0.5702 - accuracy: 0.8307 - val_loss: 1.8297 - val_accuracy: 0.6442\n",
      "Epoch 14/100\n",
      "128/128 [==============================] - 14s 111ms/step - loss: 0.6037 - accuracy: 0.8160 - val_loss: 1.7634 - val_accuracy: 0.6346\n",
      "Epoch 15/100\n",
      "128/128 [==============================] - 14s 111ms/step - loss: 0.6118 - accuracy: 0.8123 - val_loss: 1.7904 - val_accuracy: 0.6250\n",
      "Epoch 16/100\n",
      "128/128 [==============================] - 14s 112ms/step - loss: 0.5997 - accuracy: 0.8187 - val_loss: 1.9431 - val_accuracy: 0.6154\n",
      "Epoch 17/100\n",
      "128/128 [==============================] - 14s 111ms/step - loss: 0.6346 - accuracy: 0.8115 - val_loss: 1.8941 - val_accuracy: 0.5986\n",
      "Epoch 18/100\n",
      "128/128 [==============================] - 14s 112ms/step - loss: 0.6432 - accuracy: 0.8052 - val_loss: 1.8298 - val_accuracy: 0.6538\n",
      "Epoch 19/100\n",
      "128/128 [==============================] - 15s 113ms/step - loss: 0.6173 - accuracy: 0.8125 - val_loss: 1.7642 - val_accuracy: 0.6274\n",
      "Epoch 20/100\n",
      "128/128 [==============================] - 15s 114ms/step - loss: 0.6074 - accuracy: 0.8096 - val_loss: 1.7314 - val_accuracy: 0.6442\n",
      "Epoch 21/100\n",
      "128/128 [==============================] - 14s 111ms/step - loss: 0.6192 - accuracy: 0.8059 - val_loss: 1.8220 - val_accuracy: 0.6418\n",
      "Epoch 22/100\n",
      "128/128 [==============================] - 15s 117ms/step - loss: 0.5631 - accuracy: 0.8243 - val_loss: 1.7837 - val_accuracy: 0.6250\n",
      "Epoch 23/100\n",
      "128/128 [==============================] - 15s 117ms/step - loss: 0.5695 - accuracy: 0.8209 - val_loss: 2.1002 - val_accuracy: 0.6346\n",
      "Epoch 24/100\n",
      "128/128 [==============================] - 15s 117ms/step - loss: 0.5833 - accuracy: 0.8221 - val_loss: 1.8403 - val_accuracy: 0.6466\n",
      "Epoch 25/100\n",
      "128/128 [==============================] - 15s 119ms/step - loss: 0.5476 - accuracy: 0.8317 - val_loss: 1.7441 - val_accuracy: 0.6466\n",
      "Epoch 26/100\n",
      "128/128 [==============================] - 15s 116ms/step - loss: 0.5725 - accuracy: 0.8246 - val_loss: 1.7360 - val_accuracy: 0.6250\n",
      "Epoch 27/100\n",
      "128/128 [==============================] - 15s 120ms/step - loss: 0.5854 - accuracy: 0.8204 - val_loss: 1.9708 - val_accuracy: 0.6274\n",
      "Epoch 28/100\n",
      "128/128 [==============================] - 16s 126ms/step - loss: 0.5795 - accuracy: 0.8229 - val_loss: 1.8555 - val_accuracy: 0.6514\n",
      "Epoch 29/100\n",
      "128/128 [==============================] - 15s 120ms/step - loss: 0.5434 - accuracy: 0.8233 - val_loss: 1.5802 - val_accuracy: 0.6851\n",
      "Epoch 30/100\n",
      "128/128 [==============================] - 15s 118ms/step - loss: 0.5872 - accuracy: 0.8138 - val_loss: 1.6653 - val_accuracy: 0.6394\n",
      "Epoch 31/100\n",
      "128/128 [==============================] - 16s 125ms/step - loss: 0.5747 - accuracy: 0.8238 - val_loss: 1.7591 - val_accuracy: 0.6755\n",
      "Epoch 32/100\n",
      "128/128 [==============================] - 15s 118ms/step - loss: 0.5881 - accuracy: 0.8219 - val_loss: 1.6447 - val_accuracy: 0.6635\n",
      "Epoch 33/100\n",
      "128/128 [==============================] - 15s 120ms/step - loss: 0.5701 - accuracy: 0.8204 - val_loss: 1.8316 - val_accuracy: 0.6274\n",
      "Epoch 34/100\n",
      "128/128 [==============================] - 16s 127ms/step - loss: 0.5452 - accuracy: 0.8270 - val_loss: 1.6843 - val_accuracy: 0.6659\n",
      "Epoch 35/100\n",
      "128/128 [==============================] - 15s 117ms/step - loss: 0.5898 - accuracy: 0.8258 - val_loss: 1.8735 - val_accuracy: 0.6226\n",
      "Epoch 36/100\n",
      "128/128 [==============================] - 16s 123ms/step - loss: 0.5557 - accuracy: 0.8253 - val_loss: 1.8730 - val_accuracy: 0.6322\n",
      "Epoch 37/100\n",
      "128/128 [==============================] - 15s 116ms/step - loss: 0.5651 - accuracy: 0.8268 - val_loss: 1.7420 - val_accuracy: 0.6274\n",
      "Epoch 38/100\n",
      "128/128 [==============================] - 15s 117ms/step - loss: 0.5427 - accuracy: 0.8246 - val_loss: 1.8003 - val_accuracy: 0.6611\n",
      "Epoch 39/100\n",
      "128/128 [==============================] - 15s 116ms/step - loss: 0.5770 - accuracy: 0.8189 - val_loss: 1.9146 - val_accuracy: 0.6490\n",
      "Epoch 40/100\n",
      "128/128 [==============================] - 15s 116ms/step - loss: 0.5652 - accuracy: 0.8243 - val_loss: 1.8976 - val_accuracy: 0.6442\n",
      "Epoch 41/100\n",
      "128/128 [==============================] - 15s 115ms/step - loss: 0.5775 - accuracy: 0.8260 - val_loss: 1.7414 - val_accuracy: 0.6082\n",
      "Epoch 42/100\n",
      "128/128 [==============================] - 15s 117ms/step - loss: 0.5897 - accuracy: 0.8152 - val_loss: 1.6753 - val_accuracy: 0.6442\n",
      "Epoch 43/100\n",
      "128/128 [==============================] - 15s 116ms/step - loss: 0.5541 - accuracy: 0.8260 - val_loss: 1.9076 - val_accuracy: 0.6130\n",
      "Epoch 44/100\n",
      "128/128 [==============================] - 15s 117ms/step - loss: 0.5574 - accuracy: 0.8285 - val_loss: 1.8734 - val_accuracy: 0.6442\n",
      "Epoch 45/100\n",
      "128/128 [==============================] - 15s 115ms/step - loss: 0.5663 - accuracy: 0.8263 - val_loss: 1.9041 - val_accuracy: 0.5938\n",
      "Epoch 46/100\n",
      "128/128 [==============================] - 15s 116ms/step - loss: 0.5385 - accuracy: 0.8373 - val_loss: 1.7962 - val_accuracy: 0.6466\n",
      "Epoch 47/100\n",
      "128/128 [==============================] - 15s 116ms/step - loss: 0.5800 - accuracy: 0.8214 - val_loss: 1.9422 - val_accuracy: 0.6418\n",
      "Epoch 48/100\n",
      "128/128 [==============================] - 15s 116ms/step - loss: 0.5172 - accuracy: 0.8391 - val_loss: 1.8346 - val_accuracy: 0.6442\n",
      "Epoch 49/100\n",
      "128/128 [==============================] - 15s 118ms/step - loss: 0.5754 - accuracy: 0.8307 - val_loss: 2.0035 - val_accuracy: 0.6322\n",
      "Epoch 50/100\n",
      "128/128 [==============================] - 15s 117ms/step - loss: 0.5801 - accuracy: 0.8187 - val_loss: 1.7736 - val_accuracy: 0.6154\n",
      "Epoch 51/100\n",
      "128/128 [==============================] - 15s 117ms/step - loss: 0.5434 - accuracy: 0.8342 - val_loss: 1.6597 - val_accuracy: 0.6755\n",
      "Epoch 52/100\n",
      "128/128 [==============================] - 15s 116ms/step - loss: 0.5414 - accuracy: 0.8410 - val_loss: 1.9203 - val_accuracy: 0.6322\n",
      "Epoch 53/100\n",
      "128/128 [==============================] - 15s 119ms/step - loss: 0.5497 - accuracy: 0.8332 - val_loss: 1.8380 - val_accuracy: 0.6418\n",
      "Epoch 54/100\n",
      "128/128 [==============================] - 15s 117ms/step - loss: 0.5203 - accuracy: 0.8322 - val_loss: 1.6938 - val_accuracy: 0.6587\n",
      "Epoch 55/100\n",
      "128/128 [==============================] - 15s 116ms/step - loss: 0.6017 - accuracy: 0.8214 - val_loss: 1.8938 - val_accuracy: 0.6226\n",
      "Epoch 56/100\n",
      "128/128 [==============================] - 15s 118ms/step - loss: 0.5696 - accuracy: 0.8243 - val_loss: 2.1216 - val_accuracy: 0.6082\n",
      "Epoch 57/100\n",
      "128/128 [==============================] - 15s 119ms/step - loss: 0.5063 - accuracy: 0.8447 - val_loss: 2.0232 - val_accuracy: 0.6587\n",
      "Epoch 58/100\n",
      "128/128 [==============================] - 15s 117ms/step - loss: 0.5627 - accuracy: 0.8275 - val_loss: 1.6499 - val_accuracy: 0.6611\n",
      "Epoch 59/100\n",
      "128/128 [==============================] - 15s 115ms/step - loss: 0.5486 - accuracy: 0.8300 - val_loss: 1.8804 - val_accuracy: 0.6490\n",
      "Epoch 60/100\n",
      "128/128 [==============================] - 15s 116ms/step - loss: 0.5100 - accuracy: 0.8418 - val_loss: 1.8571 - val_accuracy: 0.6178\n",
      "Epoch 61/100\n",
      "128/128 [==============================] - 15s 116ms/step - loss: 0.5361 - accuracy: 0.8332 - val_loss: 2.0436 - val_accuracy: 0.6010\n",
      "Epoch 62/100\n",
      "128/128 [==============================] - 15s 116ms/step - loss: 0.5469 - accuracy: 0.8386 - val_loss: 1.8011 - val_accuracy: 0.6466\n",
      "Epoch 63/100\n",
      "128/128 [==============================] - 15s 115ms/step - loss: 0.5247 - accuracy: 0.8337 - val_loss: 1.9673 - val_accuracy: 0.6346\n",
      "Epoch 64/100\n",
      "128/128 [==============================] - 15s 116ms/step - loss: 0.5569 - accuracy: 0.8236 - val_loss: 1.5762 - val_accuracy: 0.6587\n",
      "Epoch 65/100\n",
      "128/128 [==============================] - 15s 116ms/step - loss: 0.5347 - accuracy: 0.8278 - val_loss: 1.6219 - val_accuracy: 0.6899\n",
      "Epoch 66/100\n",
      "128/128 [==============================] - 15s 115ms/step - loss: 0.4798 - accuracy: 0.8504 - val_loss: 1.7614 - val_accuracy: 0.6466\n",
      "Epoch 67/100\n",
      "128/128 [==============================] - 15s 116ms/step - loss: 0.5709 - accuracy: 0.8229 - val_loss: 2.1115 - val_accuracy: 0.6514\n",
      "Epoch 68/100\n",
      "128/128 [==============================] - 15s 116ms/step - loss: 0.5388 - accuracy: 0.8383 - val_loss: 1.8738 - val_accuracy: 0.6490\n",
      "Epoch 69/100\n",
      "128/128 [==============================] - 15s 118ms/step - loss: 0.5361 - accuracy: 0.8442 - val_loss: 2.1301 - val_accuracy: 0.6538\n",
      "Epoch 70/100\n",
      "128/128 [==============================] - 15s 116ms/step - loss: 0.5503 - accuracy: 0.8349 - val_loss: 1.7243 - val_accuracy: 0.6370\n",
      "Epoch 71/100\n",
      "128/128 [==============================] - 15s 116ms/step - loss: 0.5451 - accuracy: 0.8295 - val_loss: 1.9895 - val_accuracy: 0.6106\n",
      "Epoch 72/100\n",
      "128/128 [==============================] - 15s 115ms/step - loss: 0.5301 - accuracy: 0.8371 - val_loss: 1.8040 - val_accuracy: 0.6394\n",
      "Epoch 73/100\n",
      "128/128 [==============================] - 15s 116ms/step - loss: 0.4823 - accuracy: 0.8428 - val_loss: 1.8898 - val_accuracy: 0.6514\n",
      "Epoch 74/100\n",
      "128/128 [==============================] - 15s 115ms/step - loss: 0.4989 - accuracy: 0.8452 - val_loss: 2.0947 - val_accuracy: 0.6250\n",
      "Epoch 75/100\n",
      "128/128 [==============================] - 15s 116ms/step - loss: 0.5785 - accuracy: 0.8221 - val_loss: 1.8449 - val_accuracy: 0.6418\n",
      "Epoch 76/100\n",
      "128/128 [==============================] - 15s 115ms/step - loss: 0.5079 - accuracy: 0.8425 - val_loss: 1.7341 - val_accuracy: 0.6659\n",
      "Epoch 77/100\n",
      "128/128 [==============================] - 15s 115ms/step - loss: 0.4804 - accuracy: 0.8523 - val_loss: 1.8201 - val_accuracy: 0.6298\n",
      "Epoch 78/100\n",
      "128/128 [==============================] - 15s 118ms/step - loss: 0.4675 - accuracy: 0.8580 - val_loss: 1.9225 - val_accuracy: 0.6611\n",
      "Epoch 79/100\n",
      "128/128 [==============================] - 14s 110ms/step - loss: 0.5263 - accuracy: 0.8354 - val_loss: 1.8769 - val_accuracy: 0.6466\n",
      "Epoch 80/100\n",
      "128/128 [==============================] - 14s 110ms/step - loss: 0.5263 - accuracy: 0.8420 - val_loss: 1.8138 - val_accuracy: 0.6587\n",
      "Epoch 81/100\n",
      "128/128 [==============================] - 14s 110ms/step - loss: 0.5421 - accuracy: 0.8349 - val_loss: 1.6346 - val_accuracy: 0.6587\n",
      "Epoch 82/100\n",
      "128/128 [==============================] - 14s 110ms/step - loss: 0.5060 - accuracy: 0.8396 - val_loss: 2.1997 - val_accuracy: 0.6154\n",
      "Epoch 83/100\n",
      "128/128 [==============================] - 14s 110ms/step - loss: 0.5122 - accuracy: 0.8435 - val_loss: 1.6630 - val_accuracy: 0.6659\n",
      "Epoch 84/100\n",
      "128/128 [==============================] - 14s 111ms/step - loss: 0.5097 - accuracy: 0.8491 - val_loss: 1.8363 - val_accuracy: 0.6442\n",
      "Epoch 85/100\n",
      "128/128 [==============================] - 14s 110ms/step - loss: 0.5166 - accuracy: 0.8398 - val_loss: 1.9130 - val_accuracy: 0.6346\n",
      "Epoch 86/100\n",
      "128/128 [==============================] - 14s 110ms/step - loss: 0.4891 - accuracy: 0.8442 - val_loss: 1.9659 - val_accuracy: 0.6298\n",
      "Epoch 87/100\n",
      "128/128 [==============================] - 14s 109ms/step - loss: 0.4945 - accuracy: 0.8435 - val_loss: 1.8549 - val_accuracy: 0.6611\n",
      "Epoch 88/100\n",
      "128/128 [==============================] - 14s 110ms/step - loss: 0.4874 - accuracy: 0.8531 - val_loss: 1.7284 - val_accuracy: 0.6587\n",
      "Epoch 89/100\n",
      "128/128 [==============================] - 14s 109ms/step - loss: 0.4956 - accuracy: 0.8403 - val_loss: 2.0322 - val_accuracy: 0.6562\n",
      "Epoch 90/100\n",
      "128/128 [==============================] - 14s 112ms/step - loss: 0.5008 - accuracy: 0.8462 - val_loss: 1.8214 - val_accuracy: 0.6514\n",
      "Epoch 91/100\n",
      "128/128 [==============================] - 14s 109ms/step - loss: 0.5115 - accuracy: 0.8452 - val_loss: 1.7758 - val_accuracy: 0.6322\n",
      "Epoch 92/100\n",
      "128/128 [==============================] - 14s 110ms/step - loss: 0.5178 - accuracy: 0.8391 - val_loss: 1.9229 - val_accuracy: 0.6683\n",
      "Epoch 93/100\n",
      "128/128 [==============================] - 14s 109ms/step - loss: 0.4973 - accuracy: 0.8450 - val_loss: 1.8999 - val_accuracy: 0.6346\n",
      "Epoch 94/100\n",
      "128/128 [==============================] - 14s 111ms/step - loss: 0.5672 - accuracy: 0.8329 - val_loss: 1.8639 - val_accuracy: 0.6274\n",
      "Epoch 95/100\n",
      "128/128 [==============================] - 14s 111ms/step - loss: 0.5277 - accuracy: 0.8339 - val_loss: 1.7850 - val_accuracy: 0.6490\n",
      "Epoch 96/100\n",
      "128/128 [==============================] - 14s 111ms/step - loss: 0.4757 - accuracy: 0.8568 - val_loss: 1.8725 - val_accuracy: 0.6418\n",
      "Epoch 97/100\n",
      "128/128 [==============================] - 14s 110ms/step - loss: 0.4999 - accuracy: 0.8499 - val_loss: 1.8460 - val_accuracy: 0.6370\n",
      "Epoch 98/100\n",
      "128/128 [==============================] - 14s 110ms/step - loss: 0.4893 - accuracy: 0.8499 - val_loss: 1.8140 - val_accuracy: 0.6370\n",
      "Epoch 99/100\n",
      "128/128 [==============================] - 14s 111ms/step - loss: 0.4933 - accuracy: 0.8462 - val_loss: 1.7656 - val_accuracy: 0.6562\n",
      "Epoch 100/100\n",
      "128/128 [==============================] - 14s 109ms/step - loss: 0.5077 - accuracy: 0.8452 - val_loss: 1.9660 - val_accuracy: 0.6394\n"
     ]
    },
    {
     "data": {
      "text/plain": [
       "<keras.src.callbacks.History at 0x15bc15c4e90>"
      ]
     },
     "execution_count": 12,
     "metadata": {},
     "output_type": "execute_result"
    }
   ],
   "source": [
    "num_epochs = 100\n",
    "custom_callback = CustomCallback()\n",
    "model.fit(\n",
    "    train_generator,\n",
    "    steps_per_epoch=train_generator.samples // batch_size,\n",
    "    validation_data=validation_generator,\n",
    "    validation_steps=validation_generator.samples // batch_size,\n",
    "    callbacks=[custom_callback],\n",
    "    epochs=num_epochs\n",
    ")"
   ]
  },
  {
   "cell_type": "code",
   "execution_count": 13,
   "metadata": {},
   "outputs": [
    {
     "name": "stderr",
     "output_type": "stream",
     "text": [
      "c:\\Users\\ACER\\AppData\\Local\\Programs\\Python\\Python311\\Lib\\site-packages\\keras\\src\\engine\\training.py:3103: UserWarning: You are saving your model as an HDF5 file via `model.save()`. This file format is considered legacy. We recommend using instead the native Keras format, e.g. `model.save('my_model.keras')`.\n",
      "  saving_api.save_model(\n"
     ]
    }
   ],
   "source": [
    "model.save('new_anime_classification.h5')"
   ]
  },
  {
   "cell_type": "code",
   "execution_count": 22,
   "metadata": {},
   "outputs": [
    {
     "name": "stdout",
     "output_type": "stream",
     "text": [
      "1/1 [==============================] - 0s 82ms/step\n",
      "The predicted class is: Jett_Valorant\n"
     ]
    }
   ],
   "source": [
    "from keras.models import load_model\n",
    "from keras.preprocessing import image\n",
    "import numpy as np\n",
    "\n",
    "# Load the trained model\n",
    "model_path = 'new_anime_classification.h5'  # Replace with the actual path to your model\n",
    "loaded_model = load_model(model_path)\n",
    "\n",
    "# Function to preprocess the input image\n",
    "def preprocess_image(img_path):\n",
    "    img = image.load_img(img_path, target_size=(128, 128))\n",
    "    img_array = image.img_to_array(img)\n",
    "    img_array = np.expand_dims(img_array, axis=0)\n",
    "    return img_array / 255.0\n",
    "\n",
    "# Function to make predictions\n",
    "def predict_image(model, img_path):\n",
    "    processed_image = preprocess_image(img_path)\n",
    "    prediction = model.predict(processed_image)\n",
    "    return prediction\n",
    "\n",
    "# Replace 'your_image.jpg' with the actual path to the image you want to test\n",
    "image_path = 'uploads\\image_2023-12-04_160901968.png'\n",
    "result = predict_image(loaded_model, image_path)\n",
    "# Assuming you have 36 classes, replace this with your actual class names\n",
    "class_names = ['Anya_Forger', 'Aquamarine_Hoshino', 'Ayaka_Genshin_Impact', 'Boa_Hancock', 'Charlotte_Genshin_Impact', 'Damian_Desmond', 'Dazai_Osamu_BSD', 'Ganyu_genshin', 'Gojo_Satoru', 'Jett_Valorant', 'Kafka_Honkai_Star_Rail', 'Keqing_genshin', 'Killjoy_Valorant', 'Kobo_kanaeru', 'Kugisaki_Nobara', 'Loid_Forger', 'Luffy_D_Monkey', 'Midoriya_Izuku', 'Minato_Aqua', 'Misa_Amane', 'Mitsuri_Kanroji', 'Nico_Robin', 'Nier_Automata_9S', 'Nier_Automata_A2', 'Raiden_Shogun_Genshin_Impact', 'Ruby_Hoshino', 'Sakura_Haruno', 'Todoroki_Shoto', 'Tokisaki_Kurumi', 'Uraraka_Ochako', 'Wanderer', 'Yor_Forger', 'Yuri_Briar', 'Zerotwo', 'amelia_watson', 'arima_kousei', 'fern', 'frieren', 'gawr_gura', 'hoshino_ai', 'hutao_genshin', 'kaori', 'mikasa', 'tanjiro', 'violet_evergarden', 'zeta_hololive']\n",
    "\n",
    "# Get the predicted class index\n",
    "predicted_class_index = np.argmax(result)\n",
    "predicted_class = class_names[predicted_class_index]\n",
    "\n",
    "print(f\"The predicted class is: {predicted_class}\")"
   ]
  },
  {
   "cell_type": "code",
   "execution_count": 18,
   "metadata": {},
   "outputs": [
    {
     "name": "stdout",
     "output_type": "stream",
     "text": [
      "Class names: ['Anya_Forger', 'Aquamarine_Hoshino', 'Ayaka_Genshin_Impact', 'Boa_Hancock', 'Charlotte_Genshin_Impact', 'Damian_Desmond', 'Dazai_Osamu_BSD', 'Ganyu_genshin', 'Gojo_Satoru', 'Jett_Valorant', 'Kafka_Honkai_Star_Rail', 'Keqing_genshin', 'Killjoy_Valorant', 'Kobo_kanaeru', 'Kugisaki_Nobara', 'Loid_Forger', 'Luffy_D_Monkey', 'Midoriya_Izuku', 'Minato_Aqua', 'Misa_Amane', 'Mitsuri_Kanroji', 'Nico_Robin', 'Nier_Automata_9S', 'Nier_Automata_A2', 'Raiden_Shogun_Genshin_Impact', 'Ruby_Hoshino', 'Sakura_Haruno', 'Todoroki_Shoto', 'Tokisaki_Kurumi', 'Uraraka_Ochako', 'Wanderer', 'Yor_Forger', 'Yuri_Briar', 'Zerotwo', 'amelia_watson', 'arima_kousei', 'fern', 'frieren', 'gawr_gura', 'hoshino_ai', 'hutao_genshin', 'kaori', 'mikasa', 'tanjiro', 'violet_evergarden', 'zeta_hololive']\n"
     ]
    }
   ],
   "source": [
    "class_names = list(train_generator.class_indices.keys())\n",
    "print(\"Class names:\", class_names)"
   ]
  },
  {
   "cell_type": "code",
   "execution_count": null,
   "metadata": {},
   "outputs": [],
   "source": []
  }
 ],
 "metadata": {
  "kernelspec": {
   "display_name": "Python 3",
   "language": "python",
   "name": "python3"
  },
  "language_info": {
   "codemirror_mode": {
    "name": "ipython",
    "version": 3
   },
   "file_extension": ".py",
   "mimetype": "text/x-python",
   "name": "python",
   "nbconvert_exporter": "python",
   "pygments_lexer": "ipython3",
   "version": "3.11.4"
  }
 },
 "nbformat": 4,
 "nbformat_minor": 2
}
